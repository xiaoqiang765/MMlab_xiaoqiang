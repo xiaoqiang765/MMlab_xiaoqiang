{
 "cells": [
  {
   "cell_type": "markdown",
   "id": "a68db48f-27a5-4dc1-bf16-65c64535733d",
   "metadata": {},
   "source": [
    "### Labelme格式数据集转换coco格式"
   ]
  },
  {
   "cell_type": "code",
   "execution_count": 21,
   "id": "c642dd4f-08d9-47b5-a8aa-5c8d4e6d8010",
   "metadata": {},
   "outputs": [],
   "source": [
    "import json\n",
    "import os\n",
    "import shutil\n",
    "\n",
    "import argparse\n",
    "from tqdm import tqdm"
   ]
  },
  {
   "cell_type": "code",
   "execution_count": 22,
   "id": "20cdc9cd-bbe6-4615-8fab-148aad50162b",
   "metadata": {},
   "outputs": [],
   "source": [
    "# 标注格式转换相关函数\n",
    "def get_category_id(label, categories):\n",
    "    # 检查是否已存在该类别，若不存在则添加\n",
    "    for category in categories:\n",
    "        if category['name'] == label:\n",
    "            return category['id']\n",
    "    new_category_id = len(categories) + 1\n",
    "    new_category = {\n",
    "        \"id\": new_category_id,\n",
    "        \"name\": label,\n",
    "        \"supercategory\": \"object\"\n",
    "    }\n",
    "    categories.append(new_category)\n",
    "    return new_category_id\n",
    "\n",
    "def labelme_to_coco(labelme_dir, images_dir, output_dir):\n",
    "    # 创建COCO数据集的目录结构\n",
    "    os.makedirs(output_dir, exist_ok=True)\n",
    "    out_images_dir = os.path.join(output_dir, 'images')\n",
    "    out_annotations_dir = os.path.join(output_dir, 'annotations')\n",
    "    os.makedirs(out_images_dir, exist_ok=True)\n",
    "    os.makedirs(out_annotations_dir, exist_ok=True)\n",
    "\n",
    "    # 遍历Labelme标注文件\n",
    "    label_files = os.listdir(labelme_dir)\n",
    "    image_id = 1\n",
    "    annotation_id = 1\n",
    "    coco_data = {\n",
    "        \"info\": {},\n",
    "        \"licenses\": [],\n",
    "        \"images\": [],\n",
    "        \"annotations\": [],\n",
    "        \"categories\": []\n",
    "    }\n",
    "\n",
    "    for label_file in tqdm(label_files, total=len(label_files)):\n",
    "        if label_file.endswith('.json'):\n",
    "            label_file_path = os.path.join(labelme_dir, label_file)\n",
    "            with open(label_file_path, 'r') as f:\n",
    "                label_data = json.load(f)\n",
    "\n",
    "            # 复制图像文件到COCO数据集的images目录下\n",
    "            image_file = label_data['imagePath']\n",
    "            image_file_path = os.path.join(images_dir, image_file)\n",
    "            shutil.copy(image_file_path, out_images_dir)\n",
    "\n",
    "            # 构建COCO数据集的images部分\n",
    "            image_info = {\n",
    "                \"id\": image_id,\n",
    "                \"file_name\": image_file,\n",
    "                \"height\": label_data['imageHeight'],\n",
    "                \"width\": label_data['imageWidth']\n",
    "            }\n",
    "            coco_data['images'].append(image_info)\n",
    "\n",
    "            # 构建COCO数据集的annotations部分\n",
    "            shapes = label_data['shapes']\n",
    "            for shape in shapes:\n",
    "                label = shape['label']\n",
    "                points = shape['points']\n",
    "                category_id = get_category_id(label, coco_data['categories'])\n",
    "                \n",
    "                # 根据标注情况重写此部分，此方法适用于目标检测\n",
    "                xmin, ymin = points[0]\n",
    "                xmax, ymax = points[1]\n",
    "                height = ymax - ymin\n",
    "                width = xmax - xmin\n",
    "\n",
    "                annotation_info = {\n",
    "                    \"id\": annotation_id,\n",
    "                    \"image_id\": image_id,\n",
    "                    \"category_id\": category_id,\n",
    "                    \"segmentation\": [],\n",
    "                    \"bbox\": [xmin, ymin, width, height],\n",
    "                    \"area\": height*width,\n",
    "                    \"iscrowd\": 0\n",
    "                }\n",
    "                coco_data['annotations'].append(annotation_info)\n",
    "                annotation_id += 1\n",
    "            image_id += 1\n",
    "\n",
    "    # 保存COCO标注文件\n",
    "    coco_annotations_file = os.path.join(out_annotations_dir, 'instances.json')\n",
    "    with open(coco_annotations_file, 'w') as f:\n",
    "        json.dump(coco_data, f)"
   ]
  },
  {
   "cell_type": "code",
   "execution_count": 23,
   "id": "2395446b-cee8-4c13-8ee2-af8c7dcb9d6e",
   "metadata": {},
   "outputs": [
    {
     "name": "stderr",
     "output_type": "stream",
     "text": [
      "100%|████████████████████████████████████████| 284/284 [00:00<00:00, 497.99it/s]\n"
     ]
    }
   ],
   "source": [
    "# 指定Labelme格式标注文件的目录和输出的COCO标注文件的目录\n",
    "image_dir = '/Users/xiaoqiang/Mlearning/dataset/Drink_284_Detection_Labelme/images'\n",
    "labelme_dir = '/Users/xiaoqiang/Mlearning/dataset/Drink_284_Detection_Labelme/labelme_jsons'\n",
    "output_dir = '/Users/xiaoqiang/Mlearning/dataset/Drink_coco'\n",
    "\n",
    "# 调用函数进行转换\n",
    "labelme_to_coco(labelme_dir=labelme_dir, output_dir=output_dir, images_dir=image_dir)"
   ]
  },
  {
   "cell_type": "code",
   "execution_count": null,
   "id": "e26fe7e9-76ac-49b3-87e3-90431b011930",
   "metadata": {},
   "outputs": [],
   "source": []
  }
 ],
 "metadata": {
  "kernelspec": {
   "display_name": "mmlab2",
   "language": "python",
   "name": "mmlab2"
  },
  "language_info": {
   "codemirror_mode": {
    "name": "ipython",
    "version": 3
   },
   "file_extension": ".py",
   "mimetype": "text/x-python",
   "name": "python",
   "nbconvert_exporter": "python",
   "pygments_lexer": "ipython3",
   "version": "3.9.13"
  }
 },
 "nbformat": 4,
 "nbformat_minor": 5
}
